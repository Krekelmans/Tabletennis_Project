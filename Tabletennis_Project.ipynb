{
 "cells": [
  {
   "cell_type": "code",
   "execution_count": 3,
   "metadata": {
    "collapsed": true
   },
   "outputs": [],
   "source": [
    "import pandas as pd\n",
    "from bs4 import BeautifulSoup\n",
    "import bs4\n",
    "import requests"
   ]
  },
  {
   "cell_type": "code",
   "execution_count": 3,
   "metadata": {
    "collapsed": false
   },
   "outputs": [],
   "source": [
    "club_data = []\n",
    "for x in range(1, 33):\n",
    "    url = 'http://competitie.vttl.be/index.php?menu=1&cur_page='+str(x)\n",
    "    r  = requests.get(url)\n",
    "    soup = BeautifulSoup(r.text, \"lxml\")\n",
    "    table = soup.find('table', attrs={'class':'DBTable'})\n",
    "    rows = table.find_all('tr')[2:-2]\n",
    "    for row in rows:\n",
    "        cols = row.find_all('td')\n",
    "        cols = [ele.text.strip() for ele in cols]\n",
    "        club_data.append([ele for ele in cols if ele])"
   ]
  },
  {
   "cell_type": "code",
   "execution_count": 4,
   "metadata": {
    "collapsed": false
   },
   "outputs": [],
   "source": [
    "club_df = pd.DataFrame(club_data)\n",
    "club_df.columns = ['index', 'club', 'categorie', 'atl lokalen', 'site']\n",
    "club_df.set_index('index', inplace=True)\n",
    "club_df.index.name = None"
   ]
  },
  {
   "cell_type": "code",
   "execution_count": 229,
   "metadata": {
    "collapsed": false
   },
   "outputs": [
    {
     "data": {
      "text/html": [
       "<div>\n",
       "<table border=\"1\" class=\"dataframe\">\n",
       "  <thead>\n",
       "    <tr style=\"text-align: right;\">\n",
       "      <th></th>\n",
       "      <th>club</th>\n",
       "      <th>categorie</th>\n",
       "      <th>atl lokalen</th>\n",
       "      <th>site</th>\n",
       "    </tr>\n",
       "  </thead>\n",
       "  <tbody>\n",
       "    <tr>\n",
       "      <th>000</th>\n",
       "      <td>Indiv. KBTTB/FRBTT</td>\n",
       "      <td>FRBTT</td>\n",
       "      <td>0</td>\n",
       "      <td>-</td>\n",
       "    </tr>\n",
       "    <tr>\n",
       "      <th>VTTL</th>\n",
       "      <td>Buitenland</td>\n",
       "      <td>VTTL</td>\n",
       "      <td>0</td>\n",
       "      <td>-</td>\n",
       "    </tr>\n",
       "    <tr>\n",
       "      <th>VTTL</th>\n",
       "      <td>Individueel</td>\n",
       "      <td>VTTL</td>\n",
       "      <td>0</td>\n",
       "      <td>None</td>\n",
       "    </tr>\n",
       "    <tr>\n",
       "      <th>AF001</th>\n",
       "      <td>Individuel Aile Francophone</td>\n",
       "      <td>AF</td>\n",
       "      <td>0</td>\n",
       "      <td>None</td>\n",
       "    </tr>\n",
       "    <tr>\n",
       "      <th>Vl-B000</th>\n",
       "      <td>Individueel Vlaams-Brabant</td>\n",
       "      <td>Vlaams-Brabant &amp; Br.</td>\n",
       "      <td>1</td>\n",
       "      <td>None</td>\n",
       "    </tr>\n",
       "  </tbody>\n",
       "</table>\n",
       "</div>"
      ],
      "text/plain": [
       "                                club             categorie atl lokalen  site\n",
       "000               Indiv. KBTTB/FRBTT                 FRBTT           0     -\n",
       "VTTL                      Buitenland                  VTTL           0     -\n",
       "VTTL                     Individueel                  VTTL           0  None\n",
       "AF001    Individuel Aile Francophone                    AF           0  None\n",
       "Vl-B000   Individueel Vlaams-Brabant  Vlaams-Brabant & Br.           1  None"
      ]
     },
     "execution_count": 229,
     "metadata": {},
     "output_type": "execute_result"
    }
   ],
   "source": [
    "club_df.head()"
   ]
  },
  {
   "cell_type": "code",
   "execution_count": 854,
   "metadata": {
    "collapsed": false
   },
   "outputs": [
    {
     "data": {
      "text/plain": [
       "'1667'"
      ]
     },
     "execution_count": 854,
     "metadata": {},
     "output_type": "execute_result"
    }
   ],
   "source": [
    "naamjuist_elo_df[(naamjuist_elo_df[\"naam_juist\"]==\"CEDRIC NUYTINCK\") & (naamjuist_elo_df[\"club_y\"]==\"Merelbeke\")].punten.values[0]"
   ]
  },
  {
   "cell_type": "code",
   "execution_count": 783,
   "metadata": {
    "collapsed": false
   },
   "outputs": [],
   "source": [
    "#Opmerking: om in deze rangschikking te worden opgenomen, \n",
    "#moet de speler tenminste 24 individuele ontmoetingen in de laatste 12 maanden hebben gespeeld.\n",
    "elo_data = []\n",
    "for x in range(1, 191):\n",
    "    url = 'http://competitie.vttl.be/index.php?menu=5&perelo=1&club_id=0&cur_page='+str(x)\n",
    "    r  = requests.get(url)\n",
    "    soup = BeautifulSoup(r.text, \"lxml\")\n",
    "    table = soup.find('table', attrs={'class':'DBTable'})\n",
    "    rows = table.find_all('tr')[2:-2]\n",
    "    for row in rows:\n",
    "        cols = row.find_all('td')\n",
    "        cols = [ele.text.strip() for ele in cols]\n",
    "        elo_data.append([ele for ele in cols if ele])"
   ]
  },
  {
   "cell_type": "code",
   "execution_count": 784,
   "metadata": {
    "collapsed": true
   },
   "outputs": [],
   "source": [
    "elo_df = pd.DataFrame(elo_data)\n",
    "elo_df.columns = ['plaats', 'naam', 'klassement', 'club', 'punten']"
   ]
  },
  {
   "cell_type": "code",
   "execution_count": 785,
   "metadata": {
    "collapsed": false,
    "scrolled": false
   },
   "outputs": [
    {
     "data": {
      "text/html": [
       "<div>\n",
       "<table border=\"1\" class=\"dataframe\">\n",
       "  <thead>\n",
       "    <tr style=\"text-align: right;\">\n",
       "      <th></th>\n",
       "      <th>plaats</th>\n",
       "      <th>naam</th>\n",
       "      <th>klassement</th>\n",
       "      <th>club</th>\n",
       "      <th>punten</th>\n",
       "    </tr>\n",
       "  </thead>\n",
       "  <tbody>\n",
       "    <tr>\n",
       "      <th>18938</th>\n",
       "      <td>18879</td>\n",
       "      <td>BOUTEN ALANA</td>\n",
       "      <td>NG</td>\n",
       "      <td>Zonnebeke</td>\n",
       "      <td>0</td>\n",
       "    </tr>\n",
       "    <tr>\n",
       "      <th>18939</th>\n",
       "      <td>18879</td>\n",
       "      <td>VANWINNENDAELE CHRISTINE</td>\n",
       "      <td>NG</td>\n",
       "      <td>Ctt Bosquet</td>\n",
       "      <td>0</td>\n",
       "    </tr>\n",
       "    <tr>\n",
       "      <th>18940</th>\n",
       "      <td>18879</td>\n",
       "      <td>JAEKEN STAF</td>\n",
       "      <td>NG</td>\n",
       "      <td>Voorshoven</td>\n",
       "      <td>0</td>\n",
       "    </tr>\n",
       "    <tr>\n",
       "      <th>18941</th>\n",
       "      <td>18879</td>\n",
       "      <td>CULOT ANAELLE</td>\n",
       "      <td>NG</td>\n",
       "      <td>Palette Rancoise</td>\n",
       "      <td>0</td>\n",
       "    </tr>\n",
       "    <tr>\n",
       "      <th>18942</th>\n",
       "      <td>18879</td>\n",
       "      <td>DONNAY DANY</td>\n",
       "      <td>NG</td>\n",
       "      <td>Ans</td>\n",
       "      <td>0</td>\n",
       "    </tr>\n",
       "  </tbody>\n",
       "</table>\n",
       "</div>"
      ],
      "text/plain": [
       "      plaats                      naam klassement              club punten\n",
       "18938  18879              BOUTEN ALANA         NG         Zonnebeke      0\n",
       "18939  18879  VANWINNENDAELE CHRISTINE         NG       Ctt Bosquet      0\n",
       "18940  18879               JAEKEN STAF         NG        Voorshoven      0\n",
       "18941  18879             CULOT ANAELLE         NG  Palette Rancoise      0\n",
       "18942  18879               DONNAY DANY         NG               Ans      0"
      ]
     },
     "execution_count": 785,
     "metadata": {},
     "output_type": "execute_result"
    }
   ],
   "source": [
    "elo_df.tail()"
   ]
  },
  {
   "cell_type": "code",
   "execution_count": 800,
   "metadata": {
    "collapsed": false
   },
   "outputs": [
    {
     "name": "stdout",
     "output_type": "stream",
     "text": [
      "aantal dubbele namen:  304\n"
     ]
    },
    {
     "data": {
      "text/html": [
       "<div>\n",
       "<table border=\"1\" class=\"dataframe\">\n",
       "  <thead>\n",
       "    <tr style=\"text-align: right;\">\n",
       "      <th></th>\n",
       "      <th>plaats</th>\n",
       "      <th>naam</th>\n",
       "      <th>klassement</th>\n",
       "      <th>club</th>\n",
       "      <th>punten</th>\n",
       "    </tr>\n",
       "  </thead>\n",
       "  <tbody>\n",
       "    <tr>\n",
       "      <th>69</th>\n",
       "      <td>70</td>\n",
       "      <td>MARTIN JULIEN</td>\n",
       "      <td>B2</td>\n",
       "      <td>Vedrinamur</td>\n",
       "      <td>2355</td>\n",
       "    </tr>\n",
       "    <tr>\n",
       "      <th>11182</th>\n",
       "      <td>11179</td>\n",
       "      <td>MARTIN JULIEN</td>\n",
       "      <td>E4</td>\n",
       "      <td>TT Castors</td>\n",
       "      <td>769</td>\n",
       "    </tr>\n",
       "  </tbody>\n",
       "</table>\n",
       "</div>"
      ],
      "text/plain": [
       "      plaats           naam klassement        club punten\n",
       "69        70  MARTIN JULIEN         B2  Vedrinamur   2355\n",
       "11182  11179  MARTIN JULIEN         E4  TT Castors    769"
      ]
     },
     "execution_count": 800,
     "metadata": {},
     "output_type": "execute_result"
    }
   ],
   "source": [
    "print(\"aantal dubbele namen: \",len(elo_df.naam[elo_df.naam.duplicated(keep=False)].index))\n",
    "elo_df[elo_df[\"naam\"]==\"MARTIN JULIEN\"]\n",
    "#er zijn toch wel redelijk wat dezelfde namen, wat doen we daar mee?"
   ]
  },
  {
   "cell_type": "code",
   "execution_count": 816,
   "metadata": {
    "collapsed": true
   },
   "outputs": [],
   "source": [
    "player_data = []\n",
    "for x in range(1, 418):\n",
    "    url = 'http://competitie.vttl.be/index.php?menu=6&club_id=0&categ_id=1&cur_page='+str(x)\n",
    "    r  = requests.get(url)\n",
    "    soup = BeautifulSoup(r.text, \"lxml\")\n",
    "    table = soup.find_all('table', attrs={'class':'DBTable'})[-1]\n",
    "    rows = table.find_all('tr')[2:-2]\n",
    "    for row in rows:\n",
    "        cols = row.find_all('td')\n",
    "        cols = [ele.text.strip() for ele in cols]\n",
    "        player_data.append([ele for ele in cols if ele])"
   ]
  },
  {
   "cell_type": "code",
   "execution_count": 817,
   "metadata": {
    "collapsed": false
   },
   "outputs": [],
   "source": [
    "player_df = pd.DataFrame(player_data)\n",
    "player_df.columns = ['lidnummer', 'achternaam', 'voornaam', 'klassement', 'club']"
   ]
  },
  {
   "cell_type": "code",
   "execution_count": 822,
   "metadata": {
    "collapsed": true
   },
   "outputs": [],
   "source": [
    "def get_namen(row):\n",
    "    achternaam = str(row['achternaam'])\n",
    "    achternaam = achternaam.replace(u'\\xa0', u' ')\n",
    "    voornaam = str(row['voornaam'])\n",
    "    voornaam = voornaam.replace(u'\\xa0', u' ')\n",
    "    row['naam_juist']=voornaam+' '+achternaam\n",
    "    row['naam']=achternaam+' '+voornaam\n",
    "    return row"
   ]
  },
  {
   "cell_type": "code",
   "execution_count": 823,
   "metadata": {
    "collapsed": false
   },
   "outputs": [],
   "source": [
    "player_df = player_df.apply(get_namen, axis=1)"
   ]
  },
  {
   "cell_type": "code",
   "execution_count": 824,
   "metadata": {
    "collapsed": true
   },
   "outputs": [],
   "source": [
    "#join player_df en elo_df op naam_omgekeerd\n",
    "naamjuist_elo_df = pd.merge(player_df, elo_df, on='naam')"
   ]
  },
  {
   "cell_type": "code",
   "execution_count": 69,
   "metadata": {
    "collapsed": false
   },
   "outputs": [],
   "source": [
    "club_match_df = pd.DataFrame(club_match_data)\n",
    "club_match_df.columns = ['wedstrijd', 'thuis', 'bezoekers', 'score']"
   ]
  },
  {
   "cell_type": "code",
   "execution_count": 72,
   "metadata": {
    "collapsed": false
   },
   "outputs": [
    {
     "data": {
      "text/html": [
       "<div>\n",
       "<table border=\"1\" class=\"dataframe\">\n",
       "  <thead>\n",
       "    <tr style=\"text-align: right;\">\n",
       "      <th></th>\n",
       "      <th>wedstrijd</th>\n",
       "      <th>thuis</th>\n",
       "      <th>bezoekers</th>\n",
       "      <th>score</th>\n",
       "    </tr>\n",
       "  </thead>\n",
       "  <tbody>\n",
       "    <tr>\n",
       "      <th>0</th>\n",
       "      <td>NH01/021</td>\n",
       "      <td>Sokah A</td>\n",
       "      <td>Merelbeke A</td>\n",
       "      <td>16 - 00</td>\n",
       "    </tr>\n",
       "    <tr>\n",
       "      <th>1</th>\n",
       "      <td>NH01/036</td>\n",
       "      <td>Rooigem-Gent A</td>\n",
       "      <td>Le Logis B (af)</td>\n",
       "      <td>00 - 00 af</td>\n",
       "    </tr>\n",
       "    <tr>\n",
       "      <th>2</th>\n",
       "      <td>NH01/022</td>\n",
       "      <td>Zandvoorde A</td>\n",
       "      <td>Meerdaal A</td>\n",
       "      <td>13 - 03</td>\n",
       "    </tr>\n",
       "    <tr>\n",
       "      <th>3</th>\n",
       "      <td>NH01/033</td>\n",
       "      <td>Braine A</td>\n",
       "      <td>Diest A</td>\n",
       "      <td>08 - 08</td>\n",
       "    </tr>\n",
       "    <tr>\n",
       "      <th>4</th>\n",
       "      <td>NH01/023</td>\n",
       "      <td>Basse Sambre A</td>\n",
       "      <td>La Cipale A</td>\n",
       "      <td>07 - 09</td>\n",
       "    </tr>\n",
       "  </tbody>\n",
       "</table>\n",
       "</div>"
      ],
      "text/plain": [
       "  wedstrijd           thuis        bezoekers       score\n",
       "0  NH01/021         Sokah A      Merelbeke A     16 - 00\n",
       "1  NH01/036  Rooigem-Gent A  Le Logis B (af)  00 - 00 af\n",
       "2  NH01/022    Zandvoorde A       Meerdaal A     13 - 03\n",
       "3  NH01/033        Braine A          Diest A     08 - 08\n",
       "4  NH01/023  Basse Sambre A      La Cipale A     07 - 09"
      ]
     },
     "execution_count": 72,
     "metadata": {},
     "output_type": "execute_result"
    }
   ],
   "source": [
    "club_match_df.head()"
   ]
  },
  {
   "cell_type": "code",
   "execution_count": 144,
   "metadata": {
    "collapsed": false
   },
   "outputs": [],
   "source": [
    "ind_match_data = []\n",
    "for x in range(1, 191):\n",
    "    url = 'http://competitie.vttl.be/index.php?menu=5&perelo=1&club_id=0&cur_page='+str(x)\n",
    "    r  = requests.get(url)\n",
    "    soup = BeautifulSoup(r.text, \"lxml\")\n",
    "    table = soup.find('table', attrs={'class':'DBTable'})\n",
    "\n",
    "    for link in table.find_all('a'):\n",
    "        if link.get('href').startswith('http'):\n",
    "            name = str(link.contents)\n",
    "            r  = requests.get(link.get('href'))\n",
    "            soup = BeautifulSoup(r.text, \"lxml\")\n",
    "            div = soup.find(\"div\", {\"id\": \"match_list\"})\n",
    "            #table_2 = div.find('table', attrs={'class':'DBTable'})\n",
    "            rows = div.find_all('tr')[2:-2]\n",
    "            for row in rows:\n",
    "                cols = row.find_all('td')\n",
    "                cols = [ele.text.strip() for ele in cols]\n",
    "                cols.insert(0,name)\n",
    "                ind_match_data.append([ele for ele in cols if ele])"
   ]
  },
  {
   "cell_type": "code",
   "execution_count": 145,
   "metadata": {
    "collapsed": false
   },
   "outputs": [],
   "source": [
    "ind_match_df = pd.DataFrame(ind_match_data)\n",
    "ind_match_df.columns = ['naam', 'datum', 'type', 'M/T', 'P/R', 'tegenstander', 'naam teg', 'klass teg', 'elo teg', 'sets', 'elo', 'diff']"
   ]
  },
  {
   "cell_type": "code",
   "execution_count": 804,
   "metadata": {
    "collapsed": false
   },
   "outputs": [
    {
     "data": {
      "text/html": [
       "<div>\n",
       "<table border=\"1\" class=\"dataframe\">\n",
       "  <thead>\n",
       "    <tr style=\"text-align: right;\">\n",
       "      <th></th>\n",
       "      <th>naam</th>\n",
       "      <th>datum</th>\n",
       "      <th>type</th>\n",
       "      <th>M/T</th>\n",
       "      <th>P/R</th>\n",
       "      <th>tegenstander</th>\n",
       "      <th>naam teg</th>\n",
       "      <th>klass teg</th>\n",
       "      <th>elo teg</th>\n",
       "      <th>sets</th>\n",
       "      <th>elo</th>\n",
       "      <th>diff</th>\n",
       "    </tr>\n",
       "  </thead>\n",
       "  <tbody>\n",
       "    <tr>\n",
       "      <th>0</th>\n",
       "      <td>['ZHANG DONG YING']</td>\n",
       "      <td>2016-09-10</td>\n",
       "      <td>Heren</td>\n",
       "      <td>01/021</td>\n",
       "      <td>A</td>\n",
       "      <td>Merelbeke A</td>\n",
       "      <td>NATHAN VANDOORN</td>\n",
       "      <td>C4</td>\n",
       "      <td>1489.0</td>\n",
       "      <td>3 - 0</td>\n",
       "      <td>2696.0</td>\n",
       "      <td>0.0</td>\n",
       "    </tr>\n",
       "    <tr>\n",
       "      <th>1</th>\n",
       "      <td>['ZHANG DONG YING']</td>\n",
       "      <td>2016-09-10</td>\n",
       "      <td>Heren</td>\n",
       "      <td>01/021</td>\n",
       "      <td>A</td>\n",
       "      <td>Merelbeke A</td>\n",
       "      <td>BJORN NEIRINCK</td>\n",
       "      <td>B2</td>\n",
       "      <td>2135.0</td>\n",
       "      <td>3 - 0</td>\n",
       "      <td>2696.0</td>\n",
       "      <td>1.0</td>\n",
       "    </tr>\n",
       "    <tr>\n",
       "      <th>2</th>\n",
       "      <td>['ZHANG DONG YING']</td>\n",
       "      <td>2016-09-10</td>\n",
       "      <td>Heren</td>\n",
       "      <td>01/021</td>\n",
       "      <td>A</td>\n",
       "      <td>Merelbeke A</td>\n",
       "      <td>DAVID DOUCHY</td>\n",
       "      <td>B2</td>\n",
       "      <td>2191.0</td>\n",
       "      <td>3 - 0</td>\n",
       "      <td>2697.0</td>\n",
       "      <td>1.0</td>\n",
       "    </tr>\n",
       "    <tr>\n",
       "      <th>3</th>\n",
       "      <td>['ZHANG DONG YING']</td>\n",
       "      <td>2016-10-01</td>\n",
       "      <td>Heren</td>\n",
       "      <td>03/024</td>\n",
       "      <td>A</td>\n",
       "      <td>Meerdaal A</td>\n",
       "      <td>PASCAL STERCKX</td>\n",
       "      <td>B4</td>\n",
       "      <td>1985.0</td>\n",
       "      <td>3 - 0</td>\n",
       "      <td>2698.0</td>\n",
       "      <td>0.0</td>\n",
       "    </tr>\n",
       "    <tr>\n",
       "      <th>4</th>\n",
       "      <td>['ZHANG DONG YING']</td>\n",
       "      <td>2016-10-01</td>\n",
       "      <td>Heren</td>\n",
       "      <td>03/024</td>\n",
       "      <td>A</td>\n",
       "      <td>Meerdaal A</td>\n",
       "      <td>DAVID SCHEERS</td>\n",
       "      <td>C0</td>\n",
       "      <td>1757.0</td>\n",
       "      <td>3 - 0</td>\n",
       "      <td>2698.0</td>\n",
       "      <td>0.0</td>\n",
       "    </tr>\n",
       "  </tbody>\n",
       "</table>\n",
       "</div>"
      ],
      "text/plain": [
       "                  naam       datum   type     M/T P/R tegenstander  \\\n",
       "0  ['ZHANG DONG YING']  2016-09-10  Heren  01/021   A  Merelbeke A   \n",
       "1  ['ZHANG DONG YING']  2016-09-10  Heren  01/021   A  Merelbeke A   \n",
       "2  ['ZHANG DONG YING']  2016-09-10  Heren  01/021   A  Merelbeke A   \n",
       "3  ['ZHANG DONG YING']  2016-10-01  Heren  03/024   A   Meerdaal A   \n",
       "4  ['ZHANG DONG YING']  2016-10-01  Heren  03/024   A   Meerdaal A   \n",
       "\n",
       "          naam teg klass teg  elo teg   sets     elo  diff  \n",
       "0  NATHAN VANDOORN        C4   1489.0  3 - 0  2696.0   0.0  \n",
       "1   BJORN NEIRINCK        B2   2135.0  3 - 0  2696.0   1.0  \n",
       "2     DAVID DOUCHY        B2   2191.0  3 - 0  2697.0   1.0  \n",
       "3   PASCAL STERCKX        B4   1985.0  3 - 0  2698.0   0.0  \n",
       "4    DAVID SCHEERS        C0   1757.0  3 - 0  2698.0   0.0  "
      ]
     },
     "execution_count": 804,
     "metadata": {},
     "output_type": "execute_result"
    }
   ],
   "source": [
    "ind_match_df.head()"
   ]
  },
  {
   "cell_type": "code",
   "execution_count": 149,
   "metadata": {
    "collapsed": true
   },
   "outputs": [],
   "source": [
    "#saving to a csv file as a backup\n",
    "ind_match_df.to_csv('ind_match.csv')"
   ]
  },
  {
   "cell_type": "code",
   "execution_count": 4,
   "metadata": {
    "collapsed": false
   },
   "outputs": [
    {
     "name": "stderr",
     "output_type": "stream",
     "text": [
      "/Users/davidsmolders/Downloads/anaconda/lib/python3.5/site-packages/IPython/core/interactiveshell.py:2723: DtypeWarning: Columns (9) have mixed types. Specify dtype option on import or set low_memory=False.\n",
      "  interactivity=interactivity, compiler=compiler, result=result)\n"
     ]
    },
    {
     "data": {
      "text/html": [
       "<div>\n",
       "<table border=\"1\" class=\"dataframe\">\n",
       "  <thead>\n",
       "    <tr style=\"text-align: right;\">\n",
       "      <th></th>\n",
       "      <th>Unnamed: 0</th>\n",
       "      <th>naam</th>\n",
       "      <th>datum</th>\n",
       "      <th>type</th>\n",
       "      <th>M/T</th>\n",
       "      <th>P/R</th>\n",
       "      <th>tegenstander</th>\n",
       "      <th>naam teg</th>\n",
       "      <th>klass teg</th>\n",
       "      <th>elo teg</th>\n",
       "      <th>sets</th>\n",
       "      <th>elo</th>\n",
       "      <th>diff</th>\n",
       "    </tr>\n",
       "  </thead>\n",
       "  <tbody>\n",
       "    <tr>\n",
       "      <th>0</th>\n",
       "      <td>0</td>\n",
       "      <td>['ZHANG DONG YING']</td>\n",
       "      <td>2016-09-10</td>\n",
       "      <td>Heren</td>\n",
       "      <td>01/021</td>\n",
       "      <td>A</td>\n",
       "      <td>Merelbeke A</td>\n",
       "      <td>NATHAN VANDOORN</td>\n",
       "      <td>C4</td>\n",
       "      <td>1489</td>\n",
       "      <td>3 - 0</td>\n",
       "      <td>2696.0</td>\n",
       "      <td>0.0</td>\n",
       "    </tr>\n",
       "    <tr>\n",
       "      <th>1</th>\n",
       "      <td>1</td>\n",
       "      <td>['ZHANG DONG YING']</td>\n",
       "      <td>2016-09-10</td>\n",
       "      <td>Heren</td>\n",
       "      <td>01/021</td>\n",
       "      <td>A</td>\n",
       "      <td>Merelbeke A</td>\n",
       "      <td>BJORN NEIRINCK</td>\n",
       "      <td>B2</td>\n",
       "      <td>2135</td>\n",
       "      <td>3 - 0</td>\n",
       "      <td>2696.0</td>\n",
       "      <td>1.0</td>\n",
       "    </tr>\n",
       "    <tr>\n",
       "      <th>2</th>\n",
       "      <td>2</td>\n",
       "      <td>['ZHANG DONG YING']</td>\n",
       "      <td>2016-09-10</td>\n",
       "      <td>Heren</td>\n",
       "      <td>01/021</td>\n",
       "      <td>A</td>\n",
       "      <td>Merelbeke A</td>\n",
       "      <td>DAVID DOUCHY</td>\n",
       "      <td>B2</td>\n",
       "      <td>2191</td>\n",
       "      <td>3 - 0</td>\n",
       "      <td>2697.0</td>\n",
       "      <td>1.0</td>\n",
       "    </tr>\n",
       "    <tr>\n",
       "      <th>3</th>\n",
       "      <td>3</td>\n",
       "      <td>['ZHANG DONG YING']</td>\n",
       "      <td>2016-10-01</td>\n",
       "      <td>Heren</td>\n",
       "      <td>03/024</td>\n",
       "      <td>A</td>\n",
       "      <td>Meerdaal A</td>\n",
       "      <td>PASCAL STERCKX</td>\n",
       "      <td>B4</td>\n",
       "      <td>1985</td>\n",
       "      <td>3 - 0</td>\n",
       "      <td>2698.0</td>\n",
       "      <td>0.0</td>\n",
       "    </tr>\n",
       "    <tr>\n",
       "      <th>4</th>\n",
       "      <td>4</td>\n",
       "      <td>['ZHANG DONG YING']</td>\n",
       "      <td>2016-10-01</td>\n",
       "      <td>Heren</td>\n",
       "      <td>03/024</td>\n",
       "      <td>A</td>\n",
       "      <td>Meerdaal A</td>\n",
       "      <td>DAVID SCHEERS</td>\n",
       "      <td>C0</td>\n",
       "      <td>1757</td>\n",
       "      <td>3 - 0</td>\n",
       "      <td>2698.0</td>\n",
       "      <td>0.0</td>\n",
       "    </tr>\n",
       "  </tbody>\n",
       "</table>\n",
       "</div>"
      ],
      "text/plain": [
       "   Unnamed: 0                 naam       datum   type     M/T P/R  \\\n",
       "0           0  ['ZHANG DONG YING']  2016-09-10  Heren  01/021   A   \n",
       "1           1  ['ZHANG DONG YING']  2016-09-10  Heren  01/021   A   \n",
       "2           2  ['ZHANG DONG YING']  2016-09-10  Heren  01/021   A   \n",
       "3           3  ['ZHANG DONG YING']  2016-10-01  Heren  03/024   A   \n",
       "4           4  ['ZHANG DONG YING']  2016-10-01  Heren  03/024   A   \n",
       "\n",
       "  tegenstander         naam teg klass teg elo teg   sets     elo  diff  \n",
       "0  Merelbeke A  NATHAN VANDOORN        C4    1489  3 - 0  2696.0   0.0  \n",
       "1  Merelbeke A   BJORN NEIRINCK        B2    2135  3 - 0  2696.0   1.0  \n",
       "2  Merelbeke A     DAVID DOUCHY        B2    2191  3 - 0  2697.0   1.0  \n",
       "3   Meerdaal A   PASCAL STERCKX        B4    1985  3 - 0  2698.0   0.0  \n",
       "4   Meerdaal A    DAVID SCHEERS        C0    1757  3 - 0  2698.0   0.0  "
      ]
     },
     "execution_count": 4,
     "metadata": {},
     "output_type": "execute_result"
    }
   ],
   "source": [
    "#page crashed, loading it in again via csv, works perfectly\n",
    "ind_match_df = pd.read_csv('ind_match.csv')\n",
    "ind_match_df.head()"
   ]
  },
  {
   "cell_type": "code",
   "execution_count": 57,
   "metadata": {
    "collapsed": true
   },
   "outputs": [],
   "source": [
    "ind_match_df = ind_match_df.drop('Unnamed: 0', 1)"
   ]
  },
  {
   "cell_type": "code",
   "execution_count": 5,
   "metadata": {
    "collapsed": false
   },
   "outputs": [],
   "source": [
    "ind_match_df[['elo teg','elo','diff']] = ind_match_df[['elo teg','elo','diff']].apply(pd.to_numeric, errors='coerce')"
   ]
  },
  {
   "cell_type": "code",
   "execution_count": 6,
   "metadata": {
    "collapsed": false
   },
   "outputs": [
    {
     "data": {
      "text/plain": [
       "17860"
      ]
     },
     "execution_count": 6,
     "metadata": {},
     "output_type": "execute_result"
    }
   ],
   "source": [
    "len(ind_match_df.drop_duplicates([\"naam\"]).index)"
   ]
  },
  {
   "cell_type": "code",
   "execution_count": 505,
   "metadata": {
    "collapsed": true
   },
   "outputs": [],
   "source": [
    "ind_match_df.to_csv('ind_match_df.gz', compression='gzip')"
   ]
  },
  {
   "cell_type": "code",
   "execution_count": 754,
   "metadata": {
    "collapsed": false
   },
   "outputs": [],
   "source": [
    "import matplotlib.pyplot as plt \n",
    "%matplotlib inline\n",
    "sample_df = ind_match_df[ind_match_df[\"naam\"]==\"['MAHIEU JASPER']\"]\n",
    "sample_df_2 = ind_match_df[ind_match_df[\"naam\"]==\"['MAHIEU GERT-JAN']\"]\n",
    "sample_df_3 = ind_match_df[ind_match_df[\"naam\"]==\"['DEVOS LAURENS']\"]"
   ]
  },
  {
   "cell_type": "code",
   "execution_count": 752,
   "metadata": {
    "collapsed": false
   },
   "outputs": [
    {
     "data": {
      "text/plain": [
       "1652.0"
      ]
     },
     "execution_count": 752,
     "metadata": {},
     "output_type": "execute_result"
    }
   ],
   "source": [
    "ind_match_df[ind_match_df[\"naam\"]==\"['MAHIEU JASPER']\"].elo.tail(1).values[0]"
   ]
  },
  {
   "cell_type": "code",
   "execution_count": 855,
   "metadata": {
    "collapsed": false
   },
   "outputs": [],
   "source": [
    "def get_potential_ELO(row):\n",
    "    try:\n",
    "        tegenstander = str(row['tegenstander'])\n",
    "        naam = str(row['naam'])\n",
    "        naam = naam.replace(u'\\xa0', u' ')\n",
    "        naam_teg = str(row['naam teg'])\n",
    "        naam_teg = naam_teg.replace(u'\\xa0', u' ')\n",
    "        row['pot_elo']=ind_match_df[ind_match_df[\"naam\"]==naam].elo.tail(1).values[0]\n",
    "        row['pot_teg_elo']=naamjuist_elo_df[(naamjuist_elo_df[\"naam_juist\"]==naam_teg)].punten.values[0]\n",
    "    except:\n",
    "        row['pot_teg_elo']=row['elo teg']\n",
    "    return row"
   ]
  },
  {
   "cell_type": "code",
   "execution_count": 591,
   "metadata": {
    "collapsed": false
   },
   "outputs": [
    {
     "data": {
      "text/plain": [
       "<matplotlib.legend.Legend at 0x1969997f0>"
      ]
     },
     "execution_count": 591,
     "metadata": {},
     "output_type": "execute_result"
    },
    {
     "data": {
      "image/png": "[encoded data removed]",
      "text/plain": [
       "<matplotlib.figure.Figure at 0x188e87828>"
      ]
     },
     "metadata": {},
     "output_type": "display_data"
    }
   ],
   "source": [
    "plt.ylabel('Elo rating', fontsize=14)\n",
    "plt.plot(sample_df_2.elo.values, label=\"Gert-Jan Mahieu\")\n",
    "plt.plot(sample_df.elo.values, label=\"Jasper Mahieu\")\n",
    "plt.legend(loc=\"lower right\")\n",
    "#de vorm van de speler kunnen we misschien uit de rico halen van de ELO-grafiek, jonge spelers worden steeds beter,\n",
    "#dus stijgende grafiek -> betere resultaten dan verwacht, oudere spelers kunnen ook afzwakken -> slechter scoren\n",
    "\n",
    "#spelers die goed scoren tegen betere tegenstanders en slecht scoren tegen slechtere spelers kunnen we misschien\n",
    "#herkennen aan het aantal grote sprongen (diff groter dan X) hun ELO maakt, daarvoor wel meer data nodig dan 1 seizoen\n",
    "\n",
    "#of je neemt ELO op het einde van het jaar op, of max ELO -> potentieel\n",
    "#maar ook die potentiele ELO van de tegenstander moet opgenomen worden, anders maar weinig effect"
   ]
  },
  {
   "cell_type": "code",
   "execution_count": 342,
   "metadata": {
    "collapsed": false
   },
   "outputs": [],
   "source": [
    "#sets omzetten tot resultaten, 0/1 en een resultaat dat rekening houdt met het aantal sets\n",
    "def transform_sets(row):\n",
    "    sets = str(row['sets'])\n",
    "    sets = sets.replace(u'\\xa0', u' ')\n",
    "    if sets == '4 - 3':\n",
    "        row['sets_score']=0.8\n",
    "        row['score']=1\n",
    "    elif sets == '4 - 2':\n",
    "        row['sets_score']=0.85\n",
    "        row['score']=1\n",
    "    elif sets == '4 - 1':\n",
    "        row['sets_score']=0.9\n",
    "        row['score']=1\n",
    "    elif sets == '4 - 0':\n",
    "        row['sets_score']=1\n",
    "        row['score']=1\n",
    "    elif sets == '0 - 4':\n",
    "        row['sets_score']=0\n",
    "        row['score']=0\n",
    "    elif sets == '1 - 4':\n",
    "        row['sets_score']=0.1\n",
    "        row['score']=0\n",
    "    elif sets == '2 - 4':\n",
    "        row['sets_score']=0.15\n",
    "        row['score']=0\n",
    "    elif sets == '3 - 4':\n",
    "        row['sets_score']=0.2\n",
    "        row['score']=0\n",
    "    elif sets == '3 - 2':\n",
    "        row['sets_score']=0.8\n",
    "        row['score']=1\n",
    "    elif sets == '3 - 1':\n",
    "        row['sets_score']=0.9\n",
    "        row['score']=1\n",
    "    elif sets == '3 - 0':\n",
    "        row['sets_score']=1\n",
    "        row['score']=1\n",
    "    elif sets == '0 - 3':\n",
    "        row['sets_score']=0\n",
    "        row['score']=0\n",
    "    elif sets == '1 - 3':\n",
    "        row['sets_score']=0.1\n",
    "        row['score']=0\n",
    "    elif sets == '2 - 3':\n",
    "        row['sets_score']=0.2\n",
    "        row['score']=0\n",
    "    else:\n",
    "        row['sets_score']=None\n",
    "        row['score']=None\n",
    "    \n",
    "    return row"
   ]
  },
  {
   "cell_type": "code",
   "execution_count": 859,
   "metadata": {
    "collapsed": false
   },
   "outputs": [],
   "source": [
    "test_df = ind_match_df.sample(5000).apply(transform_sets, axis=1)\n",
    "test_df = test_df.apply(get_potential_ELO, axis=1)"
   ]
  },
  {
   "cell_type": "code",
   "execution_count": 861,
   "metadata": {
    "collapsed": false
   },
   "outputs": [],
   "source": [
    "#klasselabels encoden, deze labels hebben niet echt een toegevoegde waarde voor ons model\n",
    "from sklearn import preprocessing\n",
    "le = preprocessing.LabelEncoder()\n",
    "le.fit(test_df['klass teg'])\n",
    "test_df['klass teg'] = test_df['klass teg'].apply(le.transform)"
   ]
  },
  {
   "cell_type": "code",
   "execution_count": 862,
   "metadata": {
    "collapsed": false
   },
   "outputs": [
    {
     "data": {
      "text/html": [
       "<div>\n",
       "<table border=\"1\" class=\"dataframe\">\n",
       "  <thead>\n",
       "    <tr style=\"text-align: right;\">\n",
       "      <th></th>\n",
       "      <th>elo teg</th>\n",
       "      <th>elo</th>\n",
       "      <th>sets_score</th>\n",
       "      <th>score</th>\n",
       "      <th>pot_elo</th>\n",
       "      <th>pot_teg_elo</th>\n",
       "    </tr>\n",
       "  </thead>\n",
       "  <tbody>\n",
       "    <tr>\n",
       "      <th>236429</th>\n",
       "      <td>1134.0</td>\n",
       "      <td>1196.0</td>\n",
       "      <td>0.1</td>\n",
       "      <td>0.0</td>\n",
       "      <td>1395.0</td>\n",
       "      <td>1134</td>\n",
       "    </tr>\n",
       "    <tr>\n",
       "      <th>505448</th>\n",
       "      <td>609.0</td>\n",
       "      <td>952.0</td>\n",
       "      <td>0.9</td>\n",
       "      <td>1.0</td>\n",
       "      <td>983.0</td>\n",
       "      <td>609</td>\n",
       "    </tr>\n",
       "    <tr>\n",
       "      <th>693659</th>\n",
       "      <td>582.0</td>\n",
       "      <td>796.0</td>\n",
       "      <td>1.0</td>\n",
       "      <td>1.0</td>\n",
       "      <td>700.0</td>\n",
       "      <td>582</td>\n",
       "    </tr>\n",
       "    <tr>\n",
       "      <th>953176</th>\n",
       "      <td>412.0</td>\n",
       "      <td>309.0</td>\n",
       "      <td>0.2</td>\n",
       "      <td>0.0</td>\n",
       "      <td>297.0</td>\n",
       "      <td>412</td>\n",
       "    </tr>\n",
       "    <tr>\n",
       "      <th>153312</th>\n",
       "      <td>1144.0</td>\n",
       "      <td>1517.0</td>\n",
       "      <td>1.0</td>\n",
       "      <td>1.0</td>\n",
       "      <td>1517.0</td>\n",
       "      <td>1144</td>\n",
       "    </tr>\n",
       "  </tbody>\n",
       "</table>\n",
       "</div>"
      ],
      "text/plain": [
       "        elo teg     elo  sets_score  score  pot_elo pot_teg_elo\n",
       "236429   1134.0  1196.0         0.1    0.0   1395.0        1134\n",
       "505448    609.0   952.0         0.9    1.0    983.0         609\n",
       "693659    582.0   796.0         1.0    1.0    700.0         582\n",
       "953176    412.0   309.0         0.2    0.0    297.0         412\n",
       "153312   1144.0  1517.0         1.0    1.0   1517.0        1144"
      ]
     },
     "execution_count": 862,
     "metadata": {},
     "output_type": "execute_result"
    }
   ],
   "source": [
    "test_df = test_df.drop(['naam', 'datum', 'type', 'M/T', 'P/R', 'tegenstander', 'naam teg', 'klass teg', 'sets','diff'], 1)\n",
    "test_df = test_df.dropna()\n",
    "test_df.head()"
   ]
  },
  {
   "cell_type": "code",
   "execution_count": 863,
   "metadata": {
    "collapsed": false
   },
   "outputs": [],
   "source": [
    "test_under100_df = test_df.loc[abs(test_df['elo'] - test_df['elo teg']) <= 100.0]\n",
    "test_above100_df = test_df.loc[abs(test_df['elo'] - test_df['elo teg']) >= 101.0]\n",
    "sample_count = 0.3*len(test_under100_df.index)\n",
    "test_concat_df = pd.concat([test_under100_df, test_above100_df.sample(n=int(sample_count))])"
   ]
  },
  {
   "cell_type": "code",
   "execution_count": 887,
   "metadata": {
    "collapsed": false
   },
   "outputs": [
    {
     "data": {
      "text/plain": [
       "0.616519174041298"
      ]
     },
     "execution_count": 887,
     "metadata": {},
     "output_type": "execute_result"
    }
   ],
   "source": [
    "test_concat_1 = test_df.loc[test_df['elo'] - test_df['elo teg'] > 0.0]\n",
    "test_concat_2 = test_concat_1.loc[test_df['score'] > 0.0]\n",
    "len(test_concat_2.index)/len(test_concat_1.index)\n",
    "#Hiermee kan je checken wat de precisie is van het model \"Elo > Elo teg -> winst\" door deze te vergelijken"
   ]
  },
  {
   "cell_type": "code",
   "execution_count": 894,
   "metadata": {
    "collapsed": false
   },
   "outputs": [],
   "source": [
    "from sklearn.linear_model import LogisticRegression\n",
    "from sklearn.cross_validation import train_test_split\n",
    "\n",
    "train_data, test_data = train_test_split(test_df, test_size=.2, random_state=42)\n",
    "y_train = train_data['score']             \n",
    "x_train = train_data.drop(['sets_score','score'], 1) \n",
    "y_test = test_data['score']\n",
    "x_test = test_data.drop(['sets_score','score'], 1) "
   ]
  },
  {
   "cell_type": "code",
   "execution_count": 895,
   "metadata": {
    "collapsed": false
   },
   "outputs": [],
   "source": [
    "lr_correct = LogisticRegression()\n",
    "lr_correct.fit(x_train, y_train)\n",
    "y_train_predict = lr_correct.predict(x_train)"
   ]
  },
  {
   "cell_type": "code",
   "execution_count": 896,
   "metadata": {
    "collapsed": false
   },
   "outputs": [],
   "source": [
    "#lr_correct.predict_proba([1600,1300,1600,1500])\n",
    "#dit kunnen we gebruiken om nieuwe matchen te voorspellen, op basis van beide ELO's en potentiële ELO's"
   ]
  },
  {
   "cell_type": "code",
   "execution_count": 897,
   "metadata": {
    "collapsed": false
   },
   "outputs": [
    {
     "name": "stdout",
     "output_type": "stream",
     "text": [
      "0.654662379421\n"
     ]
    }
   ],
   "source": [
    "print(sum((y_train-y_train_predict)==0)/len(y_train))"
   ]
  },
  {
   "cell_type": "code",
   "execution_count": 898,
   "metadata": {
    "collapsed": false
   },
   "outputs": [
    {
     "name": "stdout",
     "output_type": "stream",
     "text": [
      "0.642673521851\n"
     ]
    }
   ],
   "source": [
    "y_test_predict = lr_correct.predict(x_test)\n",
    "print(sum((y_test-y_test_predict)==0)/len(y_test))"
   ]
  },
  {
   "cell_type": "code",
   "execution_count": 899,
   "metadata": {
    "collapsed": false
   },
   "outputs": [
    {
     "name": "stdout",
     "output_type": "stream",
     "text": [
      "0.620111731844 precision\n"
     ]
    }
   ],
   "source": [
    "from sklearn.metrics import precision_score\n",
    "from sklearn.ensemble import RandomForestClassifier\n",
    "rnd_clf = RandomForestClassifier(n_estimators=100)\n",
    "rnd_clf.fit(x_train, y_train)\n",
    "y_pred_rf = rnd_clf.predict(x_test)\n",
    "print(precision_score(y_test, y_pred_rf), 'precision')"
   ]
  },
  {
   "cell_type": "code",
   "execution_count": null,
   "metadata": {
    "collapsed": true
   },
   "outputs": [],
   "source": []
  }
 ],
 "metadata": {
  "kernelspec": {
   "display_name": "Python [Root]",
   "language": "python",
   "name": "Python [Root]"
  },
  "language_info": {
   "codemirror_mode": {
    "name": "ipython",
    "version": 3
   },
   "file_extension": ".py",
   "mimetype": "text/x-python",
   "name": "python",
   "nbconvert_exporter": "python",
   "pygments_lexer": "ipython3",
   "version": "3.5.2"
  }
 },
 "nbformat": 4,
 "nbformat_minor": 0
}
